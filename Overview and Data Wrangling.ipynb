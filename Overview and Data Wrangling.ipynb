{
 "cells": [
  {
   "cell_type": "markdown",
   "metadata": {},
   "source": [
    "# Overview\n",
    "\n",
    "This project uses ....."
   ]
  },
  {
   "cell_type": "code",
   "execution_count": 47,
   "metadata": {},
   "outputs": [],
   "source": [
    "import pandas as pd\n",
    "import numpy as np\n",
    "import matplotlib.pyplot as plt\n",
    "\n"
   ]
  },
  {
   "cell_type": "code",
   "execution_count": 48,
   "metadata": {},
   "outputs": [],
   "source": [
    "batting = pd.read_csv('batting-data.csv')\n",
    "pitching = pd.read_csv('pitching-data.csv')\n",
    "team = pd.read_csv('team-data.csv')\n",
    "rankings = pd.read_csv('rankings.csv')"
   ]
  },
  {
   "cell_type": "code",
   "execution_count": 49,
   "metadata": {},
   "outputs": [],
   "source": [
    "batting_headers = list(batting.columns.values)\n",
    "pitching_headers = list(pitching.columns.values)\n",
    "team_headers = list(team.columns.values)\n",
    "rank_headers = list(rankings.columns.values)"
   ]
  },
  {
   "cell_type": "code",
   "execution_count": 50,
   "metadata": {},
   "outputs": [],
   "source": [
    "num_batting = np.array(batting_headers)[batting.dtypes != 'object']\n",
    "num_pitch = np.array(pitching_headers)[pitching.dtypes != 'object']\n",
    "num_team = np.array(team_headers)[team.dtypes != 'object']\n",
    "num_rank = np.array(rank_headers)[rankings.dtypes != 'object']"
   ]
  },
  {
   "cell_type": "code",
   "execution_count": 51,
   "metadata": {},
   "outputs": [
    {
     "name": "stdout",
     "output_type": "stream",
     "text": [
      "['Year' 'G' 'PA' 'AB' 'R' 'H' '1B' '2B' '3B' 'HR' 'RBI' 'SB' 'CS' 'SB%'\n",
      " 'BB' 'SO' 'BA' 'OBP' 'SLG' 'OPS' 'OPS+' 'TB' 'GDP' 'HBP' 'SH' 'SF' 'IBB'\n",
      " 'tWAR' 'WAR' 'oWAR' 'dWAR' 'Salary' 'Stint' 'Rk.' 'W' 'L' 'Pct.' 'Order'\n",
      " 'P' 'C' '1B5' '2B6' '3B7' 'SS8' 'LF' 'CF' 'RF' 'OF' 'DH' 'PH' 'PR'\n",
      " 'Birth Year'] ['Year' 'W' 'L' 'W-L%' 'ERA' 'G' 'GS' 'GF' 'CG' 'SHO' 'SV' 'IP' 'H' 'R'\n",
      " 'ER' 'HR' 'BB' 'IBB' 'SO' 'HBP' 'BK' 'WP' 'BF' 'ERA+' 'FIP' 'WHIP' 'H9'\n",
      " 'HR9' 'BB9' 'SO9' 'SO/W' 'WAR' 'Salary' 'Rk.' 'W3' 'L4' 'Pct.' 'Order'\n",
      " 'Birth Year'] ['Year' 'Rk.' 'W' 'L' 'Pct.' 'Age' '2B' '3B' 'HR' 'SB' 'CS' 'SB%' 'BB'\n",
      " 'BA' 'OBP' 'SLG' 'OPS' 'GDP' 'HBP' 'SH' 'SF' 'IBB' 'tWAR' 'WAR' 'oWAR'\n",
      " 'dWAR' 'Age2' 'ERA' 'CG' 'SV' 'HR5' 'BB6' 'IBB7' 'HBP9' 'BK' 'WP' 'WHIP'\n",
      " 'H9' 'HR9' 'BB9' 'SO/BB' 'WAR10' 'Salary' 'AS' 'GG' 'SS' 'HoF'] ['Start' 'Final' 'Years' 'AS' 'CYA' 'MVP' 'RoY' 'GG' 'SS' 'Birth Year']\n"
     ]
    }
   ],
   "source": [
    "print(num_batting, num_pitch, num_team, num_rank)"
   ]
  },
  {
   "cell_type": "markdown",
   "metadata": {},
   "source": [
    "Issue columns:\n",
    "<p> batting cs -- should be 0 if blank?</p> \n",
    "<p> batting sb % - should be 1 if blank</p> \n",
    "<p> GB should be 0 if - in all dataframes -- then convert column to int32 </p> \n"
   ]
  },
  {
   "cell_type": "code",
   "execution_count": 52,
   "metadata": {},
   "outputs": [
    {
     "data": {
      "text/plain": [
       "Year                              int64\n",
       "#                                object\n",
       "Desc.                            object\n",
       "Name                             object\n",
       "B                                object\n",
       "T                                object\n",
       "Pos                              object\n",
       "Pri.                             object\n",
       "Team                             object\n",
       "Lg                               object\n",
       "Age                              object\n",
       "Ovr                              object\n",
       "Off                              object\n",
       "Hit                              object\n",
       "Run                              object\n",
       "Def                              object\n",
       "Dur                              object\n",
       "G                                 int64\n",
       "PA                                int64\n",
       "AB                                int64\n",
       "R                                 int64\n",
       "H                                 int64\n",
       "1B                                int64\n",
       "2B                                int64\n",
       "3B                                int64\n",
       "HR                                int64\n",
       "RBI                             float64\n",
       "SB                              float64\n",
       "CS                              float64\n",
       "SB%                             float64\n",
       "                                 ...   \n",
       "Team3                            object\n",
       "W                               float64\n",
       "L                               float64\n",
       "Pct.                            float64\n",
       "GB                               object\n",
       "Lg4                              object\n",
       "Div.                             object\n",
       "Post                             object\n",
       "WS Play                          object\n",
       "Franch.                          object\n",
       "Order                             int64\n",
       "P                                 int64\n",
       "C                                 int64\n",
       "1B5                               int64\n",
       "2B6                               int64\n",
       "3B7                               int64\n",
       "SS8                               int64\n",
       "LF                                int64\n",
       "CF                                int64\n",
       "RF                                int64\n",
       "OF                                int64\n",
       "DH                                int64\n",
       "PH                                int64\n",
       "PR                                int64\n",
       "ID                               object\n",
       "Birth State/Province/Country     object\n",
       "Region                           object\n",
       "Birthday                         object\n",
       "Birth Year                      float64\n",
       "Deceased                         object\n",
       "Length: 93, dtype: object"
      ]
     },
     "execution_count": 52,
     "metadata": {},
     "output_type": "execute_result"
    }
   ],
   "source": [
    "batting.dtypes"
   ]
  },
  {
   "cell_type": "code",
   "execution_count": null,
   "metadata": {},
   "outputs": [],
   "source": []
  }
 ],
 "metadata": {
  "kernelspec": {
   "display_name": "Python 3",
   "language": "python",
   "name": "python3"
  },
  "language_info": {
   "codemirror_mode": {
    "name": "ipython",
    "version": 3
   },
   "file_extension": ".py",
   "mimetype": "text/x-python",
   "name": "python",
   "nbconvert_exporter": "python",
   "pygments_lexer": "ipython3",
   "version": "3.7.2"
  }
 },
 "nbformat": 4,
 "nbformat_minor": 2
}
