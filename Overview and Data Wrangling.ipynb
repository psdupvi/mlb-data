{
 "cells": [
  {
   "cell_type": "markdown",
   "metadata": {},
   "source": [
    "# Overview\n",
    "\n",
    "This project uses ....."
   ]
  },
  {
   "cell_type": "code",
   "execution_count": 9,
   "metadata": {},
   "outputs": [],
   "source": [
    "import pandas as pd\n",
    "import numpy as np\n",
    "import matplotlib.pyplot as plt\n",
    "\n",
    "\n"
   ]
  },
  {
   "cell_type": "code",
   "execution_count": 12,
   "metadata": {},
   "outputs": [],
   "source": [
    "batting = pd.read_csv('batting-data.csv')\n",
    "pitching = pd.read_csv('pitching-data.csv')\n",
    "team = pd.read_csv('team-data.csv')"
   ]
  },
  {
   "cell_type": "code",
   "execution_count": 17,
   "metadata": {},
   "outputs": [
    {
     "data": {
      "text/plain": [
       "Year                              int64\n",
       "#                                object\n",
       "Desc.                            object\n",
       "Name                             object\n",
       "B                                object\n",
       "T                                object\n",
       "Pos                              object\n",
       "Pri.                             object\n",
       "Team                             object\n",
       "Lg                               object\n",
       "Age                              object\n",
       "Ovr                              object\n",
       "Off                              object\n",
       "Hit                              object\n",
       "Run                              object\n",
       "Def                              object\n",
       "Dur                              object\n",
       "G                                 int64\n",
       "PA                                int64\n",
       "AB                                int64\n",
       "R                                 int64\n",
       "H                                 int64\n",
       "1B                                int64\n",
       "2B                                int64\n",
       "3B                                int64\n",
       "HR                                int64\n",
       "RBI                             float64\n",
       "SB                              float64\n",
       "CS                              float64\n",
       "SB%                              object\n",
       "                                 ...   \n",
       "Team3                            object\n",
       "W                               float64\n",
       "L                               float64\n",
       "Pct.                            float64\n",
       "GB                               object\n",
       "Lg4                              object\n",
       "Div.                             object\n",
       "Post                             object\n",
       "WS Play                          object\n",
       "Franch.                          object\n",
       "Order                             int64\n",
       "P                                 int64\n",
       "C                                 int64\n",
       "1B5                               int64\n",
       "2B6                               int64\n",
       "3B7                               int64\n",
       "SS8                               int64\n",
       "LF                                int64\n",
       "CF                                int64\n",
       "RF                                int64\n",
       "OF                                int64\n",
       "DH                                int64\n",
       "PH                                int64\n",
       "PR                                int64\n",
       "ID                               object\n",
       "Birth State/Province/Country     object\n",
       "Region                           object\n",
       "Birthday                         object\n",
       "Birth Year                      float64\n",
       "Deceased                         object\n",
       "Length: 93, dtype: object"
      ]
     },
     "execution_count": 17,
     "metadata": {},
     "output_type": "execute_result"
    }
   ],
   "source": [
    "batting.dtypes"
   ]
  },
  {
   "cell_type": "code",
   "execution_count": null,
   "metadata": {},
   "outputs": [],
   "source": []
  }
 ],
 "metadata": {
  "kernelspec": {
   "display_name": "Python 3",
   "language": "python",
   "name": "python3"
  },
  "language_info": {
   "codemirror_mode": {
    "name": "ipython",
    "version": 3
   },
   "file_extension": ".py",
   "mimetype": "text/x-python",
   "name": "python",
   "nbconvert_exporter": "python",
   "pygments_lexer": "ipython3",
   "version": "3.7.2"
  }
 },
 "nbformat": 4,
 "nbformat_minor": 2
}
